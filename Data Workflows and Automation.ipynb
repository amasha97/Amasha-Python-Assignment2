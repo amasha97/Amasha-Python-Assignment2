{
 "cells": [
  {
   "cell_type": "code",
   "execution_count": 1,
   "metadata": {},
   "outputs": [
    {
     "name": "stdout",
     "output_type": "stream",
     "text": [
      "['lion', 'tiger', 'crocodile', 'vulture', 'hippo']\n"
     ]
    }
   ],
   "source": [
    "animals = ['lion', 'tiger', 'crocodile', 'vulture', 'hippo']\n",
    "print(animals)"
   ]
  },
  {
   "cell_type": "code",
   "execution_count": 2,
   "metadata": {},
   "outputs": [
    {
     "name": "stdout",
     "output_type": "stream",
     "text": [
      "lion\n",
      "tiger\n",
      "crocodile\n",
      "vulture\n",
      "hippo\n"
     ]
    }
   ],
   "source": [
    "for creature in animals:\n",
    "    print(creature)"
   ]
  },
  {
   "cell_type": "code",
   "execution_count": 3,
   "metadata": {},
   "outputs": [],
   "source": [
    "animals = ['lion', 'tiger', 'crocodile', 'vulture', 'hippo']\n",
    "for creature in animals:\n",
    "    pass"
   ]
  },
  {
   "cell_type": "code",
   "execution_count": 4,
   "metadata": {},
   "outputs": [
    {
     "name": "stdout",
     "output_type": "stream",
     "text": [
      "The loop variable is now: hippo\n"
     ]
    }
   ],
   "source": [
    "print('The loop variable is now: ' + creature)"
   ]
  },
  {
   "cell_type": "code",
   "execution_count": 14,
   "metadata": {},
   "outputs": [],
   "source": [
    "import os\n",
    "\n",
    "os.mkdir('Downloads/yearly_files')"
   ]
  },
  {
   "cell_type": "code",
   "execution_count": 6,
   "metadata": {},
   "outputs": [
    {
     "data": {
      "text/plain": [
       "['15972528_259209397832987_5698404508954758707_o.jpg',\n",
       " '3DP_Chip_v1611.exe',\n",
       " '3uTools_v2.37_Setup.exe',\n",
       " '465 (2017) Zoom.lk Sinhala Subtitles (bold small) (1).rar',\n",
       " '465 (2017) Zoom.lk Sinhala Subtitles (bold small).rar',\n",
       " '465 (2017) Zoom.lk Sinhala Subtitles (bold) (1).rar',\n",
       " '465 (2017) Zoom.lk Sinhala Subtitles (bold) (2).rar',\n",
       " '465 (2017) Zoom.lk Sinhala Subtitles (bold) (3).rar',\n",
       " '465 (2017) Zoom.lk Sinhala Subtitles (bold).rar',\n",
       " '465 (2017) Zoom.lk Sinhala Subtitles (Wide).rar',\n",
       " '87F92A22-F6FB-4CA2-A236-1C3C589B415E',\n",
       " 'A Star Is Born (2018) [WEBRip] [1080p] [YTS.AM] (1).torrent',\n",
       " 'A Star Is Born (2018) [WEBRip] [1080p] [YTS.AM].torrent',\n",
       " 'Anaconda3-2019.10-Windows-x86_64.exe',\n",
       " 'Anaconda3-2019.10-Windows-x86_64.exe.crdownload',\n",
       " 'Apache_OpenOffice_4.1.3_Win_x86_install_en-US.exe',\n",
       " 'cd62199f.jpeg',\n",
       " 'ChromeSetup.exe',\n",
       " 'desktop.ini',\n",
       " 'download.txt',\n",
       " 'eega 2012 telugu 720p bdrip x264 dd5 1 esubs - rdlinks.torrent',\n",
       " 'Eega-2012-Telugu-PREDVDRip-x264-AAC-Exclusive.torrent',\n",
       " 'epic-privacy-browser (1).exe',\n",
       " 'epic-privacy-browser.exe',\n",
       " 'epicsetup (1).exe',\n",
       " 'epicsetup.exe',\n",
       " 'fida-yTxe0AJDJk.zip',\n",
       " 'Fidaa (2017) Zoom.lk Sinhala Subtitles (bold).rar',\n",
       " 'Firefox_Setup_66.0.exe',\n",
       " 'Guru_Geethaya.pdf',\n",
       " 'Happy-Death-Day-2U-2019.zip',\n",
       " 'Intel_HDMI_(864_92200621)_by3DP.exe',\n",
       " 'Jab Harry Met Sejal (2017) [BluRay] [720p] [YTS.AM].torrent',\n",
       " 'Jalebi-2018.zip',\n",
       " 'kts1CV.docx.docx',\n",
       " 'microsoft-office-2010 [1].exe',\n",
       " 'microsoft-office-2010.exe',\n",
       " 'Mini Cooper Wallpaper HD (61+ images).html',\n",
       " 'Mini Cooper Wallpaper HD (61+ images)_files',\n",
       " 'ms officse 2010',\n",
       " 'ms officse 2010.torrent',\n",
       " 'Nuts!',\n",
       " 'officesp2010-kb2687455-fullfile-x86-en-us.exe',\n",
       " 'plots (1).csv',\n",
       " 'PopcornTime',\n",
       " 'portal_mammals (1).sqlite',\n",
       " 'Sanju-2018-Blu-Ray-Update.zip',\n",
       " 'SHAREit',\n",
       " 'SkypeSetupFull.exe',\n",
       " 'Smallfoot (2018) [BluRay] [1080p] [YTS.AM].torrent',\n",
       " 'species (1).csv',\n",
       " 'speciesSubset (1).csv',\n",
       " 'surveys (1).csv',\n",
       " 'The Nun (2018) Zoom.lk Sinhala Subtitles (bold).rar',\n",
       " 'The-Curse-of-La-Llorona-2019.zip',\n",
       " 'The.Amityville.Horror.(2005).Sinhala.Sub.zip',\n",
       " 'Theri (2016) - 720p - DVDRip - x264 - AC3 - ESub - [DDR]',\n",
       " 'Theri-2016.torrent',\n",
       " 'tilini edit (1).docx',\n",
       " 'tilini edit (2).docx',\n",
       " 'tilini edit.docx',\n",
       " 'Unconfirmed 656486.crdownload',\n",
       " 'uTorrent.exe',\n",
       " 'vlc-2.2.4-win32.exe',\n",
       " 'WhatsAppSetup (1).exe.ycfytsj.partial',\n",
       " 'WhatsAppSetup (2).exe.d401c08.partial',\n",
       " 'WhatsAppSetup.exe',\n",
       " 'win64_154512.4552.zip.iiklicu.partial',\n",
       " 'wrar540.exe',\n",
       " 'www.TamilRockers.al - 465 (2017) Tamil HDRip x264 400MB.rar',\n",
       " 'yearly_files',\n",
       " 'Zero-2016.baiscopelk.zip',\n",
       " '[Torrentz2eu.icu]Jalebi 2018 Hindi 1080p WEB-DL DD 5.1 x264 ESub [MW].torrent']"
      ]
     },
     "execution_count": 6,
     "metadata": {},
     "output_type": "execute_result"
    }
   ],
   "source": [
    "os.listdir('Downloads')"
   ]
  },
  {
   "cell_type": "code",
   "execution_count": 15,
   "metadata": {},
   "outputs": [],
   "source": [
    "import pandas as pd"
   ]
  },
  {
   "cell_type": "code",
   "execution_count": 16,
   "metadata": {},
   "outputs": [],
   "source": [
    "# Load the data into a DataFrame\n",
    "surveys_df = pd.read_csv('Downloads/surveys.csv')"
   ]
  },
  {
   "cell_type": "code",
   "execution_count": 17,
   "metadata": {},
   "outputs": [],
   "source": [
    "# Select only data for the year 2002\n",
    "surveys2002 = surveys_df[surveys_df.year == 2002]"
   ]
  },
  {
   "cell_type": "code",
   "execution_count": 18,
   "metadata": {},
   "outputs": [],
   "source": [
    "# Write the new DataFrame to a CSV file\n",
    "surveys2002.to_csv('Downloads/yearly_files/surveys2002.csv')"
   ]
  },
  {
   "cell_type": "code",
   "execution_count": 19,
   "metadata": {},
   "outputs": [
    {
     "data": {
      "text/plain": [
       "0        1977\n",
       "1        1977\n",
       "2        1977\n",
       "3        1977\n",
       "4        1977\n",
       "         ... \n",
       "35544    2002\n",
       "35545    2002\n",
       "35546    2002\n",
       "35547    2002\n",
       "35548    2002\n",
       "Name: year, Length: 35549, dtype: int64"
      ]
     },
     "execution_count": 19,
     "metadata": {},
     "output_type": "execute_result"
    }
   ],
   "source": [
    "surveys_df['year']"
   ]
  },
  {
   "cell_type": "code",
   "execution_count": 20,
   "metadata": {},
   "outputs": [
    {
     "data": {
      "text/plain": [
       "array([1977, 1978, 1979, 1980, 1981, 1982, 1983, 1984, 1985, 1986, 1987,\n",
       "       1988, 1989, 1990, 1991, 1992, 1993, 1994, 1995, 1996, 1997, 1998,\n",
       "       1999, 2000, 2001, 2002], dtype=int64)"
      ]
     },
     "execution_count": 20,
     "metadata": {},
     "output_type": "execute_result"
    }
   ],
   "source": [
    "surveys_df['year'].unique()"
   ]
  },
  {
   "cell_type": "code",
   "execution_count": 21,
   "metadata": {},
   "outputs": [
    {
     "name": "stdout",
     "output_type": "stream",
     "text": [
      "Downloads/yearly_files/surveys1977.csv\n",
      "Downloads/yearly_files/surveys1978.csv\n",
      "Downloads/yearly_files/surveys1979.csv\n",
      "Downloads/yearly_files/surveys1980.csv\n",
      "Downloads/yearly_files/surveys1981.csv\n",
      "Downloads/yearly_files/surveys1982.csv\n",
      "Downloads/yearly_files/surveys1983.csv\n",
      "Downloads/yearly_files/surveys1984.csv\n",
      "Downloads/yearly_files/surveys1985.csv\n",
      "Downloads/yearly_files/surveys1986.csv\n",
      "Downloads/yearly_files/surveys1987.csv\n",
      "Downloads/yearly_files/surveys1988.csv\n",
      "Downloads/yearly_files/surveys1989.csv\n",
      "Downloads/yearly_files/surveys1990.csv\n",
      "Downloads/yearly_files/surveys1991.csv\n",
      "Downloads/yearly_files/surveys1992.csv\n",
      "Downloads/yearly_files/surveys1993.csv\n",
      "Downloads/yearly_files/surveys1994.csv\n",
      "Downloads/yearly_files/surveys1995.csv\n",
      "Downloads/yearly_files/surveys1996.csv\n",
      "Downloads/yearly_files/surveys1997.csv\n",
      "Downloads/yearly_files/surveys1998.csv\n",
      "Downloads/yearly_files/surveys1999.csv\n",
      "Downloads/yearly_files/surveys2000.csv\n",
      "Downloads/yearly_files/surveys2001.csv\n",
      "Downloads/yearly_files/surveys2002.csv\n"
     ]
    }
   ],
   "source": [
    "for year in surveys_df['year'].unique():\n",
    "   filename='Downloads/yearly_files/surveys' + str(year) + '.csv'\n",
    "   print(filename)"
   ]
  },
  {
   "cell_type": "code",
   "execution_count": 25,
   "metadata": {},
   "outputs": [],
   "source": [
    "# Load the data into a DataFrame\n",
    "surveys_df = pd.read_csv('Downloads/surveys.csv')\n",
    "\n",
    "for year in surveys_df['year'].unique():\n",
    "\n",
    "    # Select data for the year\n",
    "    surveys_year = surveys_df[surveys_df.year == year]\n",
    "\n",
    "    # Write the new DataFrame to a CSV file\n",
    "    filename = 'Downloads/yearly_files/surveys' + str(year) + '.csv'\n",
    "    surveys_year.to_csv(filename)"
   ]
  },
  {
   "cell_type": "code",
   "execution_count": 26,
   "metadata": {},
   "outputs": [],
   "source": [
    "filename = 'Downloads/yearly_files/surveys' + str(year) + '.csv'"
   ]
  },
  {
   "cell_type": "code",
   "execution_count": 27,
   "metadata": {},
   "outputs": [],
   "source": [
    "def this_is_the_function_name(input_argument1, input_argument2):\n",
    "\n",
    "    # The body of the function is indented\n",
    "    # This function prints the two arguments to screen\n",
    "    print('The function arguments are:', input_argument1, input_argument2, '(this is done inside the function!)')\n",
    "\n",
    "    # And returns their product\n",
    "    return input_argument1 * input_argument2"
   ]
  },
  {
   "cell_type": "code",
   "execution_count": 28,
   "metadata": {},
   "outputs": [
    {
     "name": "stdout",
     "output_type": "stream",
     "text": [
      "The function arguments are: 2 5 (this is done inside the function!)\n"
     ]
    }
   ],
   "source": [
    "product_of_inputs = this_is_the_function_name(2,5)"
   ]
  },
  {
   "cell_type": "code",
   "execution_count": 29,
   "metadata": {},
   "outputs": [
    {
     "name": "stdout",
     "output_type": "stream",
     "text": [
      "Their product is: 10 (this is done outside the function!)\n"
     ]
    }
   ],
   "source": [
    "print('Their product is:', product_of_inputs, '(this is done outside the function!)')"
   ]
  },
  {
   "cell_type": "code",
   "execution_count": 30,
   "metadata": {},
   "outputs": [],
   "source": [
    "def one_year_csv_writer(this_year, all_data):\n",
    "    \"\"\"\n",
    "    Writes a csv file for data from a given year.\n",
    "\n",
    "    this_year --- year for which data is extracted\n",
    "    all_data --- DataFrame with multi-year data\n",
    "    \"\"\"\n",
    "\n",
    "    # Select data for the year\n",
    "    surveys_year = all_data[all_data.year == this_year]\n",
    "\n",
    "    # Write the new DataFrame to a csv file\n",
    "    filename = 'Downloads/yearly_files/function_surveys' + str(this_year) + '.csv'\n",
    "    surveys_year.to_csv(filename)"
   ]
  },
  {
   "cell_type": "code",
   "execution_count": 31,
   "metadata": {},
   "outputs": [],
   "source": [
    "one_year_csv_writer?"
   ]
  },
  {
   "cell_type": "code",
   "execution_count": 32,
   "metadata": {},
   "outputs": [],
   "source": [
    "one_year_csv_writer(2002, surveys_df)"
   ]
  },
  {
   "cell_type": "code",
   "execution_count": 33,
   "metadata": {},
   "outputs": [],
   "source": [
    "def yearly_data_csv_writer(start_year, end_year, all_data):\n",
    "    \"\"\"\n",
    "    Writes separate CSV files for each year of data.\n",
    "\n",
    "    start_year --- the first year of data we want\n",
    "    end_year --- the last year of data we want\n",
    "    all_data --- DataFrame with multi-year data\n",
    "    \"\"\"\n",
    "\n",
    "    # \"end_year\" is the last year of data we want to pull, so we loop to end_year+1\n",
    "    for year in range(start_year, end_year+1):\n",
    "        one_year_csv_writer(year, all_data)"
   ]
  },
  {
   "cell_type": "code",
   "execution_count": 34,
   "metadata": {},
   "outputs": [],
   "source": [
    "# Load the data into a DataFrame\n",
    "surveys_df = pd.read_csv('Downloads/surveys.csv')\n",
    "\n",
    "# Create CSV files\n",
    "yearly_data_csv_writer(1977, 2002, surveys_df)"
   ]
  },
  {
   "cell_type": "code",
   "execution_count": 35,
   "metadata": {},
   "outputs": [
    {
     "name": "stdout",
     "output_type": "stream",
     "text": [
      "Both optional arguments:\t 1988 1993\n",
      "Default values:\t\t\t 1977 2002\n"
     ]
    }
   ],
   "source": [
    "def yearly_data_arg_test(all_data, start_year = 1977, end_year = 2002):\n",
    "    \"\"\"\n",
    "    Modified from yearly_data_csv_writer to test default argument values!\n",
    "\n",
    "    start_year --- the first year of data we want --- default: 1977\n",
    "    end_year --- the last year of data we want --- default: 2002\n",
    "    all_data --- DataFrame with multi-year data\n",
    "    \"\"\"\n",
    "\n",
    "    return start_year, end_year\n",
    "\n",
    "\n",
    "start,end = yearly_data_arg_test (surveys_df, 1988, 1993)\n",
    "print('Both optional arguments:\\t', start, end)\n",
    "\n",
    "start,end = yearly_data_arg_test (surveys_df)\n",
    "print('Default values:\\t\\t\\t', start, end)"
   ]
  },
  {
   "cell_type": "code",
   "execution_count": 36,
   "metadata": {},
   "outputs": [
    {
     "name": "stdout",
     "output_type": "stream",
     "text": [
      "Both optional arguments:\t 1988 1993\n",
      "Default values:\t\t\t 1977 2002\n"
     ]
    }
   ],
   "source": [
    "def yearly_data_arg_test(all_data, start_year = None, end_year = None):\n",
    "    \"\"\"\n",
    "    Modified from yearly_data_csv_writer to test default argument values!\n",
    "\n",
    "    start_year --- the first year of data we want --- default: None - check all_data\n",
    "    end_year --- the last year of data we want --- default: None - check all_data\n",
    "    all_data --- DataFrame with multi-year data\n",
    "    \"\"\"\n",
    "\n",
    "    if start_year is None:\n",
    "        start_year = min(all_data.year)\n",
    "    if end_year is None:\n",
    "        end_year = max(all_data.year)\n",
    "\n",
    "    return start_year, end_year\n",
    "\n",
    "\n",
    "start,end = yearly_data_arg_test (surveys_df, 1988, 1993)\n",
    "print('Both optional arguments:\\t', start, end)\n",
    "\n",
    "start,end = yearly_data_arg_test (surveys_df)\n",
    "print('Default values:\\t\\t\\t', start, end)"
   ]
  },
  {
   "cell_type": "code",
   "execution_count": 37,
   "metadata": {},
   "outputs": [
    {
     "name": "stdout",
     "output_type": "stream",
     "text": [
      "a is a positive number\n"
     ]
    }
   ],
   "source": [
    "a = 5\n",
    "\n",
    "if a<0:  # Meets first condition?\n",
    "\n",
    "    # if a IS less than zero\n",
    "    print('a is a negative number')\n",
    "\n",
    "elif a>0:  # Did not meet first condition. meets second condition?\n",
    "\n",
    "    # if a ISN'T less than zero and IS more than zero\n",
    "    print('a is a positive number')\n",
    "\n",
    "else:  # Met neither condition\n",
    "\n",
    "    # if a ISN'T less than zero and ISN'T more than zero\n",
    "    print('a must be zero!')"
   ]
  },
  {
   "cell_type": "code",
   "execution_count": 39,
   "metadata": {},
   "outputs": [
    {
     "name": "stdout",
     "output_type": "stream",
     "text": [
      "Default values:\t\t\t 1977 2002\n",
      "No keywords:\t\t\t 1988 1993\n",
      "Both keywords, in order:\t 1988 1993\n",
      "Both keywords, flipped:\t\t 1988 1993\n",
      "One keyword, default end:\t 1988 2002\n",
      "One keyword, default start:\t 1977 1993\n"
     ]
    }
   ],
   "source": [
    "start,end = yearly_data_arg_test (surveys_df)\n",
    "print('Default values:\\t\\t\\t', start, end)\n",
    "\n",
    "start,end = yearly_data_arg_test (surveys_df, 1988, 1993)\n",
    "print('No keywords:\\t\\t\\t', start, end)\n",
    "\n",
    "start,end = yearly_data_arg_test (surveys_df, start_year = 1988, end_year = 1993)\n",
    "print('Both keywords, in order:\\t', start, end)\n",
    "\n",
    "start,end = yearly_data_arg_test (surveys_df, end_year = 1993, start_year = 1988)\n",
    "print('Both keywords, flipped:\\t\\t', start, end)\n",
    "\n",
    "start,end = yearly_data_arg_test (surveys_df, start_year = 1988)\n",
    "print('One keyword, default end:\\t', start, end)\n",
    "\n",
    "start,end = yearly_data_arg_test (surveys_df, end_year = 1993)\n",
    "print('One keyword, default start:\\t', start, end)"
   ]
  },
  {
   "cell_type": "code",
   "execution_count": 40,
   "metadata": {},
   "outputs": [
    {
     "name": "stdout",
     "output_type": "stream",
     "text": [
      "Processed directory created\n"
     ]
    }
   ],
   "source": [
    "if 'dir_name_here' in os.listdir('.'):\n",
    "   print('Processed directory exists')\n",
    "else:\n",
    "   os.mkdir('dir_name_here')\n",
    "   print('Processed directory created')"
   ]
  },
  {
   "cell_type": "code",
   "execution_count": null,
   "metadata": {},
   "outputs": [],
   "source": []
  },
  {
   "cell_type": "code",
   "execution_count": null,
   "metadata": {},
   "outputs": [],
   "source": []
  },
  {
   "cell_type": "code",
   "execution_count": null,
   "metadata": {},
   "outputs": [],
   "source": []
  }
 ],
 "metadata": {
  "kernelspec": {
   "display_name": "Python 3",
   "language": "python",
   "name": "python3"
  },
  "language_info": {
   "codemirror_mode": {
    "name": "ipython",
    "version": 3
   },
   "file_extension": ".py",
   "mimetype": "text/x-python",
   "name": "python",
   "nbconvert_exporter": "python",
   "pygments_lexer": "ipython3",
   "version": "3.7.4"
  }
 },
 "nbformat": 4,
 "nbformat_minor": 2
}
